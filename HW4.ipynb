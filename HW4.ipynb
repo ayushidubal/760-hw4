{
 "cells": [
  {
   "cell_type": "markdown",
   "metadata": {},
   "source": [
    "## 3. Language Identification with Naive Bayes"
   ]
  },
  {
   "cell_type": "code",
   "execution_count": 1,
   "metadata": {},
   "outputs": [],
   "source": [
    "import numpy as np"
   ]
  },
  {
   "cell_type": "markdown",
   "metadata": {},
   "source": [
    "### 1. Training data"
   ]
  },
  {
   "cell_type": "code",
   "execution_count": 2,
   "metadata": {},
   "outputs": [],
   "source": [
    "def get_char_counts(fname):\n",
    "    fo = open(f'languageID/{fname}')\n",
    "    lines = fo.readlines()\n",
    "    counts = [0]*27\n",
    "    for line in lines:\n",
    "        for c in line:\n",
    "            if c == ' ':\n",
    "                counts[-1] += 1\n",
    "            elif 'a' <= c <= 'z':\n",
    "                counts[ord(c) - ord('a')] += 1\n",
    "            else:\n",
    "                continue\n",
    "    return counts"
   ]
  },
  {
   "cell_type": "code",
   "execution_count": 3,
   "metadata": {},
   "outputs": [],
   "source": [
    "X_train = []\n",
    "y_train = []\n",
    "for l in ['e', 'j', 's']:\n",
    "    for i in range(20):\n",
    "        x = get_char_counts(f'{l}{i}.txt')\n",
    "        y = l\n",
    "        X_train.append(x)\n",
    "        y_train.append(y)\n",
    "X_train = np.array(X_train)\n",
    "y_train = np.array(y_train)"
   ]
  },
  {
   "cell_type": "markdown",
   "metadata": {},
   "source": [
    "### 2. Class conditional probability (English)"
   ]
  },
  {
   "cell_type": "code",
   "execution_count": 4,
   "metadata": {},
   "outputs": [],
   "source": [
    "def get_char_probs(counts, log_prob = False):\n",
    "    tot = np.sum(counts)\n",
    "    probs = np.divide(counts+0.5, tot + 27*0.5)\n",
    "    if log_prob:\n",
    "        return np.log(probs)\n",
    "    return probs"
   ]
  },
  {
   "cell_type": "code",
   "execution_count": 5,
   "metadata": {},
   "outputs": [],
   "source": [
    "all_eng_counts = [0]*27\n",
    "for i in range(10):\n",
    "    counts = get_char_counts(f'e{i}.txt')\n",
    "    all_eng_counts = np.add(all_eng_counts, counts)"
   ]
  },
  {
   "cell_type": "code",
   "execution_count": 6,
   "metadata": {},
   "outputs": [
    {
     "name": "stdout",
     "output_type": "stream",
     "text": [
      "[0.06016851 0.01113497 0.02151    0.02197258 0.10536924 0.01893276\n",
      " 0.01747894 0.04721626 0.05541054 0.00142078 0.00373369 0.02897737\n",
      " 0.02051875 0.05792169 0.0644639  0.01675202 0.0005617  0.05382455\n",
      " 0.06618206 0.08012556 0.02666446 0.00928465 0.01549645 0.00115645\n",
      " 0.01384437 0.00062779 0.17924996]\n",
      "[-2.81060613 -4.49766428 -3.83923757 -3.81796017 -2.25028454 -3.96686149\n",
      " -4.04675878 -3.05301703 -2.89298545 -6.55654709 -5.59035939 -3.54124022\n",
      " -3.88641613 -2.84866332 -2.74164987 -4.0892362  -7.48453386 -2.9220256\n",
      " -2.71534587 -2.5241604  -3.62442354 -4.67939254 -4.16714444 -6.76239915\n",
      " -4.27987629 -7.37330823 -1.71897403]\n"
     ]
    }
   ],
   "source": [
    "eng_probs = get_char_probs(all_eng_counts)\n",
    "print(eng_probs)\n",
    "eng_log_probs = get_char_probs(all_eng_counts, True)\n",
    "print(eng_log_probs)"
   ]
  },
  {
   "cell_type": "markdown",
   "metadata": {},
   "source": [
    "### 3. Class conditional probability (Japanese and Spanish)"
   ]
  },
  {
   "cell_type": "code",
   "execution_count": 7,
   "metadata": {},
   "outputs": [],
   "source": [
    "all_jap_counts = [0]*27\n",
    "for i in range(10):\n",
    "    counts = get_char_counts(f'j{i}.txt')\n",
    "    all_jap_counts = np.add(all_jap_counts, counts)"
   ]
  },
  {
   "cell_type": "code",
   "execution_count": 8,
   "metadata": {},
   "outputs": [
    {
     "name": "stdout",
     "output_type": "stream",
     "text": [
      "[1.31765610e-01 1.08669066e-02 5.48586603e-03 1.72263182e-02\n",
      " 6.02047591e-02 3.87854223e-03 1.40116706e-02 3.17621161e-02\n",
      " 9.70334393e-02 2.34110207e-03 5.74094133e-02 1.43261470e-03\n",
      " 3.97987351e-02 5.67105769e-02 9.11632132e-02 8.73545547e-04\n",
      " 1.04825466e-04 4.28037318e-02 4.21747790e-02 5.69901115e-02\n",
      " 7.06174220e-02 2.44592753e-04 1.97421294e-02 3.49418219e-05\n",
      " 1.41514379e-02 7.72214263e-03 1.23449457e-01]\n",
      "[ -2.02673061  -4.5220332   -5.20558031  -4.06131694  -2.81000388\n",
      "  -5.55229591  -4.26786468  -3.44948102  -2.33269962  -6.05713349\n",
      "  -2.85754699  -6.54825405  -3.22392015  -2.86979454  -2.39510383\n",
      "  -7.04295029  -9.16321382  -3.15112999  -3.16593289  -2.86487751\n",
      "  -2.65047839  -8.31591596  -3.92500038 -10.26182611  -4.25793904\n",
      "  -4.86366341  -2.09192346]\n"
     ]
    }
   ],
   "source": [
    "jap_probs = get_char_probs(all_jap_counts)\n",
    "print(jap_probs)\n",
    "jap_log_probs = get_char_probs(all_jap_counts, True)\n",
    "print(jap_log_probs)"
   ]
  },
  {
   "cell_type": "code",
   "execution_count": 9,
   "metadata": {},
   "outputs": [],
   "source": [
    "all_spa_counts = [0]*27\n",
    "for i in range(10):\n",
    "    counts = get_char_counts(f's{i}.txt')\n",
    "    all_spa_counts = np.add(all_spa_counts, counts)\n",
    "all_spa_counts = np.array(all_spa_counts)"
   ]
  },
  {
   "cell_type": "code",
   "execution_count": 10,
   "metadata": {},
   "outputs": [
    {
     "name": "stdout",
     "output_type": "stream",
     "text": [
      "[1.04560451e-01 8.23286362e-03 3.75258241e-02 3.97459221e-02\n",
      " 1.13810860e-01 8.60287996e-03 7.18448398e-03 4.53270019e-03\n",
      " 4.98597021e-02 6.62945947e-03 2.77512257e-04 5.29431717e-02\n",
      " 2.58086399e-02 5.41765595e-02 7.24923684e-02 2.42669051e-02\n",
      " 7.67783910e-03 5.92951189e-02 6.57704049e-02 3.56140730e-02\n",
      " 3.37023219e-02 5.88942678e-03 9.25040856e-05 2.49761031e-03\n",
      " 7.86284728e-03 2.68261848e-03 1.68264932e-01]\n",
      "[-2.25798989 -4.79962138 -3.28272594 -3.22524803 -2.17321733 -4.75565825\n",
      " -4.93583158 -5.39643745 -2.99854217 -5.01623201 -8.18964546 -2.93853617\n",
      " -3.65704596 -2.91550695 -2.62427399 -3.71864179 -4.86941714 -2.82522829\n",
      " -2.72158532 -3.33501441 -3.39018855 -5.13459661 -9.28825775 -5.99242088\n",
      " -4.84560649 -5.92096192 -1.78221557]\n"
     ]
    }
   ],
   "source": [
    "spa_probs = get_char_probs(all_spa_counts)\n",
    "print(spa_probs)\n",
    "spa_log_probs = get_char_probs(all_spa_counts, True)\n",
    "print(spa_log_probs)"
   ]
  },
  {
   "cell_type": "code",
   "execution_count": 11,
   "metadata": {},
   "outputs": [],
   "source": [
    "theta = {'e':eng_probs, 'j':jap_probs, 's':spa_probs}\n",
    "log_theta = {'e':eng_log_probs, 'j':jap_log_probs, 's':spa_log_probs}"
   ]
  },
  {
   "cell_type": "markdown",
   "metadata": {},
   "source": [
    "### 4. `e10.txt` Bag of Words"
   ]
  },
  {
   "cell_type": "code",
   "execution_count": 12,
   "metadata": {},
   "outputs": [
    {
     "name": "stdout",
     "output_type": "stream",
     "text": [
      "[164, 32, 53, 57, 311, 55, 51, 140, 140, 3, 6, 85, 64, 139, 182, 53, 3, 141, 186, 225, 65, 31, 47, 4, 38, 2, 498]\n"
     ]
    }
   ],
   "source": [
    "x_test = get_char_counts('e10.txt')\n",
    "print(x_test)"
   ]
  },
  {
   "cell_type": "markdown",
   "metadata": {},
   "source": [
    "### 5. $\\hat{p}(x|y)$"
   ]
  },
  {
   "cell_type": "code",
   "execution_count": 17,
   "metadata": {},
   "outputs": [],
   "source": [
    "# p(x|y)\n",
    "def get_log_conditional_prob(x, lang):\n",
    "    log_cond_prob = 0\n",
    "    for i in range(len(x)):\n",
    "        log_cond_prob += x[i]*log_theta[lang][i]\n",
    "    return log_cond_prob"
   ]
  },
  {
   "cell_type": "code",
   "execution_count": 22,
   "metadata": {},
   "outputs": [
    {
     "data": {
      "text/plain": [
       "-7841.865447060635"
      ]
     },
     "execution_count": 22,
     "metadata": {},
     "output_type": "execute_result"
    }
   ],
   "source": [
    "get_log_conditional_prob(x_test, 'e')"
   ]
  },
  {
   "cell_type": "markdown",
   "metadata": {},
   "source": [
    "### 6. Bayes Rule\n",
    "\n",
    "$\\hat{p}(y|x) = \\hat{p}(x|y)\\frac{\\hat{p}(y)}{\\hat{p}(x)}$\n",
    "\n",
    "Since $\\hat{p}(x)$ is constant for a given $x$, we do not consider it."
   ]
  },
  {
   "cell_type": "code",
   "execution_count": 30,
   "metadata": {},
   "outputs": [],
   "source": [
    "# p(y|x)\n",
    "def get_likelihoods(x):\n",
    "    probs = []\n",
    "    probs.append(get_log_conditional_prob(x, 'e'))\n",
    "    probs.append(get_log_conditional_prob(x, 's'))\n",
    "    probs.append(get_log_conditional_prob(x, 'j'))\n",
    "    print(probs)\n",
    "    return probs"
   ]
  },
  {
   "cell_type": "code",
   "execution_count": 31,
   "metadata": {},
   "outputs": [],
   "source": [
    "def get_pred(x):\n",
    "    return ['e', 's', 'j'][np.argmax(get_likelihoods(x))]"
   ]
  },
  {
   "cell_type": "code",
   "execution_count": 32,
   "metadata": {},
   "outputs": [
    {
     "name": "stdout",
     "output_type": "stream",
     "text": [
      "[-4543.249534799642, -5003.949919617463, -4132.7800967775565]\n",
      "j\n",
      "[-4598.848848321209, -5052.089874984948, -4106.238627375199]\n",
      "j\n",
      "[-3822.350493773421, -4175.6086113193, -3439.0411810412716]\n",
      "j\n",
      "[-4826.540783942628, -5295.515536742583, -4335.666788921198]\n",
      "j\n",
      "[-4936.700577830607, -5343.720172523175, -4377.5610450337035]\n",
      "j\n",
      "[-3854.2561120251444, -4210.085106203885, -3538.4795101791997]\n",
      "j\n",
      "[-4438.050421461976, -4847.863189329948, -3992.246840197491]\n",
      "j\n",
      "[-4805.793025892924, -5255.7747994465135, -4367.791810248242]\n",
      "j\n",
      "[-4304.069949500221, -4705.929062937818, -3828.7972721393226]\n",
      "j\n",
      "[-4273.309194940599, -4581.8368792892625, -3876.7326946260414]\n",
      "j\n"
     ]
    }
   ],
   "source": [
    " \n",
    "for i in ['e', 'j', 's']:\n",
    "    for j in range(10, 20):\n",
    "        x = get_char_counts(f'{i}{j}.txt')        "
   ]
  },
  {
   "cell_type": "markdown",
   "metadata": {},
   "source": [
    "## 4. Simple Feed-Forward Network"
   ]
  },
  {
   "cell_type": "code",
   "execution_count": null,
   "metadata": {},
   "outputs": [],
   "source": [
    "import numpy as np\n",
    "import torch\n",
    "from torchvision.datasets import MNIST\n",
    "from torchvision import transforms\n",
    "from torch.utils.data import DataLoader\n",
    "from sklearn.preprocessing import OneHotEncoder\n",
    "\n",
    "import torch.nn as nn\n",
    "import torch.optim as optim\n",
    "import torchvision.transforms as transforms"
   ]
  },
  {
   "cell_type": "code",
   "execution_count": 24,
   "metadata": {},
   "outputs": [],
   "source": [
    "def sigmoid(x):\n",
    "    return 1 / (1 + np.exp(-x))"
   ]
  },
  {
   "cell_type": "code",
   "execution_count": 25,
   "metadata": {},
   "outputs": [],
   "source": [
    "def softmax(x):\n",
    "    e_x = np.exp(x - np.max(x, axis=-1, keepdims=True))\n",
    "    return e_x / e_x.sum(axis=-1, keepdims=True)"
   ]
  },
  {
   "cell_type": "code",
   "execution_count": 26,
   "metadata": {},
   "outputs": [],
   "source": [
    "def cross_entropy_loss(y_true, y_pred):\n",
    "    epsilon = 1e-15\n",
    "    y_pred = np.clip(y_pred, epsilon, 1 - epsilon)\n",
    "    return -np.sum(y_true * np.log(y_pred))"
   ]
  },
  {
   "cell_type": "code",
   "execution_count": 48,
   "metadata": {},
   "outputs": [],
   "source": [
    "def initialize_parameters(d, d1, k, init_wts):\n",
    "    np.random.seed(0)\n",
    "    if init_wts == 'zero':\n",
    "        W1 = np.zeros((d, d1))\n",
    "        W2 = np.zeros((d1, k))\n",
    "    elif init_wts == 'random':\n",
    "        W1 = np.random.uniform(-1, 1, (d, d1))\n",
    "        W2 = np.random.uniform(-1, 1, (d1, k))\n",
    "    b1 = np.zeros((1, d1))\n",
    "    b2 = np.zeros((1, k))\n",
    "    return W1, b1, W2, b2"
   ]
  },
  {
   "cell_type": "code",
   "execution_count": 28,
   "metadata": {},
   "outputs": [],
   "source": [
    "def forward_propagation(X, W1, b1, W2, b2):\n",
    "    Z1 = np.dot(X, W1) + b1\n",
    "    A1 = sigmoid(Z1)\n",
    "    Z2 = np.dot(A1, W2) + b2\n",
    "    A2 = softmax(Z2)\n",
    "    return A1, A2"
   ]
  },
  {
   "cell_type": "code",
   "execution_count": 29,
   "metadata": {},
   "outputs": [],
   "source": [
    "def backward_propagation(X, A1, A2, Y, W2):\n",
    "    m = X.shape[0]\n",
    "    dZ2 = A2 - Y\n",
    "    dW2 = np.dot(A1.T, dZ2) / m\n",
    "    db2 = np.sum(dZ2, axis=0, keepdims=True) / m\n",
    "    dZ1 = np.dot(dZ2, W2.T) * A1 * (1 - A1)\n",
    "    dW1 = np.dot(X.T, dZ1) / m\n",
    "    db1 = np.sum(dZ1, axis=0, keepdims=True) / m\n",
    "    return dW1, db1, dW2, db2"
   ]
  },
  {
   "cell_type": "code",
   "execution_count": 30,
   "metadata": {},
   "outputs": [],
   "source": [
    "def update_parameters(W1, b1, W2, b2, dW1, db1, dW2, db2, learning_rate):\n",
    "    W1 -= learning_rate * dW1\n",
    "    b1 -= learning_rate * db1\n",
    "    W2 -= learning_rate * dW2\n",
    "    b2 -= learning_rate * db2\n",
    "    return W1, b1, W2, b2"
   ]
  },
  {
   "cell_type": "code",
   "execution_count": 46,
   "metadata": {},
   "outputs": [],
   "source": [
    "def train(X, Y, d1, k, num_epochs, learning_rate, init_wts):\n",
    "    d = X.shape[1]\n",
    "    W1, b1, W2, b2 = initialize_parameters(d, d1, k, init_wts)\n",
    "    for epoch in range(num_epochs):\n",
    "        for i in range(len(X_train)):\n",
    "            x = X[i:i+1]\n",
    "            y_true = Y[i:i+1]\n",
    "            A1, A2 = forward_propagation(x, W1, b1, W2, b2)\n",
    "            cost = cross_entropy_loss(y_true, A2)\n",
    "            dW1, db1, dW2, db2 = backward_propagation(x, A1, A2, y_true, W2)\n",
    "            W1, b1, W2, b2 = update_parameters(W1, b1, W2, b2, dW1, db1, dW2, db2, learning_rate)\n",
    "        print(f\"Epoch {epoch + 1}/{num_epochs}, Cost: {cost}\")\n",
    "    return W1, b1, W2, b2"
   ]
  },
  {
   "cell_type": "code",
   "execution_count": null,
   "metadata": {},
   "outputs": [],
   "source": [
    "# Load MNIST dataset\n",
    "transform = transforms.Compose([transforms.ToTensor(), transforms.Normalize((0.5,), (0.5,))])\n",
    "train_dataset = MNIST(root='./data', train=True, transform=transform, download=True)\n",
    "test_dataset = MNIST(root='./data', train=False, transform=transform)\n",
    "\n",
    "train_loader = DataLoader(train_dataset, batch_size=64, shuffle=True)\n",
    "test_loader = DataLoader(test_dataset, batch_size=64, shuffle=False)\n",
    "\n",
    "# Load and preprocess the MNIST data\n",
    "X_train = train_dataset.data.numpy().reshape(-1, 28 * 28) / 255.0\n",
    "Y_train = train_dataset.targets.numpy()\n",
    "X_test = test_dataset.data.numpy().reshape(-1, 28 * 28) / 255.0\n",
    "Y_test = test_dataset.targets.numpy()\n",
    "\n",
    "enc = OneHotEncoder(categories='auto')\n",
    "Y_train_onehot = enc.fit_transform(Y_train.reshape(-1, 1)).toarray()\n",
    "Y_test_onehot = enc.transform(Y_test.reshape(-1, 1)).toarray()"
   ]
  },
  {
   "cell_type": "code",
   "execution_count": null,
   "metadata": {},
   "outputs": [],
   "source": [
    "# Initialize the neural network parameters\n",
    "d = X_train.shape[1]  # Input size (MNIST images are 28x28)\n",
    "d1 = 128              # Number of units in the first hidden layer\n",
    "k = 10                # Number of classes"
   ]
  },
  {
   "cell_type": "code",
   "execution_count": null,
   "metadata": {},
   "outputs": [
    {
     "name": "stdout",
     "output_type": "stream",
     "text": [
      "Epoch 1/3, Cost: 0.00042911754080437645\n",
      "Epoch 2/3, Cost: 0.00042310261584901704\n",
      "Epoch 3/3, Cost: 0.0013986781447004745\n"
     ]
    }
   ],
   "source": [
    "learning_rate = 0.1\n",
    "num_epochs = 3\n",
    "\n",
    "W1, b1, W2, b2 = train(X_train, Y_train_onehot, d1, k, num_epochs, learning_rate, 'random')"
   ]
  },
  {
   "cell_type": "code",
   "execution_count": null,
   "metadata": {},
   "outputs": [
    {
     "name": "stdout",
     "output_type": "stream",
     "text": [
      "Accuracy on the test set: 95.70%\n"
     ]
    }
   ],
   "source": [
    "correct = 0\n",
    "\n",
    "for i in range(len(X_test)):\n",
    "    x = X_test[i:i+1]\n",
    "    y_true = Y_test[i]\n",
    "    _, A2 = forward_propagation(x, W1, b1, W2, b2)\n",
    "    predicted_class = np.argmax(A2)\n",
    "\n",
    "    if predicted_class == y_true:\n",
    "        correct += 1\n",
    "\n",
    "accuracy = (correct / len(X_test)) * 100\n",
    "print(f'Accuracy on the test set: {accuracy:.2f}%')"
   ]
  },
  {
   "cell_type": "markdown",
   "metadata": {},
   "source": [
    "#### Using PyTorch"
   ]
  },
  {
   "cell_type": "code",
   "execution_count": 79,
   "metadata": {},
   "outputs": [],
   "source": [
    "# Define the neural network architecture\n",
    "class NeuralNetwork(nn.Module):\n",
    "    def __init__(self, d, d1, k):\n",
    "        nn.Module.__init__(self)\n",
    "        self.fc1 = nn.Linear(d, d1)\n",
    "        self.fc2 = nn.Linear(d1, k)\n",
    "\n",
    "    def forward(self, x):\n",
    "        x = torch.sigmoid(self.fc1(x))\n",
    "        x = torch.softmax(self.fc2(x), dim=1)\n",
    "        return x"
   ]
  },
  {
   "cell_type": "code",
   "execution_count": 80,
   "metadata": {},
   "outputs": [],
   "source": [
    "# Load MNIST dataset\n",
    "transform = transforms.Compose([transforms.ToTensor(), transforms.Normalize((0.5,), (0.5,))])\n",
    "train_dataset = MNIST(root='./data', train=True, transform=transform, download=True)\n",
    "test_dataset = MNIST(root='./data', train=False, transform=transform)\n",
    "\n",
    "train_loader = DataLoader(train_dataset, batch_size=64, shuffle=True)\n",
    "test_loader = DataLoader(test_dataset, batch_size=64, shuffle=False)"
   ]
  },
  {
   "cell_type": "code",
   "execution_count": 82,
   "metadata": {},
   "outputs": [],
   "source": [
    "# Initialize the neural network\n",
    "d = 28 * 28  # Input size (MNIST images are 28x28)\n",
    "d1 = 300     # Number of units in the first hidden layer\n",
    "k = 10       # Number of classes\n",
    "model = NeuralNetwork(d, d1, k)"
   ]
  },
  {
   "cell_type": "code",
   "execution_count": 84,
   "metadata": {},
   "outputs": [],
   "source": [
    "# Define loss function and optimizer\n",
    "criterion = nn.CrossEntropyLoss()\n",
    "optimizer = optim.SGD(model.parameters(), lr=0.01)"
   ]
  },
  {
   "cell_type": "code",
   "execution_count": null,
   "metadata": {},
   "outputs": [],
   "source": [
    "# Training loop\n",
    "num_epochs = 3\n",
    "for epoch in range(num_epochs):\n",
    "    model.train()  # Set the model to training mode\n",
    "    for images, labels in train_loader:\n",
    "        images = images.view(-1, 28 * 28)  # Flatten the input images\n",
    "        optimizer.zero_grad()\n",
    "        outputs = model(images)\n",
    "        loss = criterion(outputs, labels)\n",
    "        loss.backward()\n",
    "        optimizer.step()"
   ]
  },
  {
   "cell_type": "code",
   "execution_count": null,
   "metadata": {},
   "outputs": [],
   "source": [
    "# Test the network\n",
    "model.eval()  # Set the model to evaluation mode\n",
    "correct = 0\n",
    "total = 0\n",
    "\n",
    "with torch.no_grad():\n",
    "    for images, labels in test_loader:\n",
    "        images = images.view(-1, 28 * 28)\n",
    "        outputs = model(images)\n",
    "        _, predicted = torch.max(outputs, 1)\n",
    "        total += labels.size(0)\n",
    "        correct += (predicted == labels).sum().item()\n",
    "\n",
    "accuracy = (correct / total) * 100\n",
    "print(f'Accuracy on the test set: {accuracy:.2f}%')"
   ]
  },
  {
   "cell_type": "markdown",
   "metadata": {},
   "source": [
    "#### Initialize randomly"
   ]
  },
  {
   "cell_type": "code",
   "execution_count": 49,
   "metadata": {},
   "outputs": [],
   "source": [
    "# Load MNIST dataset\n",
    "transform = transforms.Compose([transforms.ToTensor(), transforms.Normalize((0.5,), (0.5,))])\n",
    "train_dataset = MNIST(root='./data', train=True, transform=transform, download=True)\n",
    "test_dataset = MNIST(root='./data', train=False, transform=transform)\n",
    "\n",
    "train_loader = DataLoader(train_dataset, batch_size=64, shuffle=True)\n",
    "test_loader = DataLoader(test_dataset, batch_size=64, shuffle=False)\n",
    "\n",
    "# Load and preprocess the MNIST data\n",
    "X_train = train_dataset.data.numpy().reshape(-1, 28 * 28) / 255.0\n",
    "Y_train = train_dataset.targets.numpy()\n",
    "X_test = test_dataset.data.numpy().reshape(-1, 28 * 28) / 255.0\n",
    "Y_test = test_dataset.targets.numpy()\n",
    "\n",
    "enc = OneHotEncoder(categories='auto')\n",
    "Y_train_onehot = enc.fit_transform(Y_train.reshape(-1, 1)).toarray()\n",
    "Y_test_onehot = enc.transform(Y_test.reshape(-1, 1)).toarray()"
   ]
  },
  {
   "cell_type": "code",
   "execution_count": 50,
   "metadata": {},
   "outputs": [],
   "source": [
    "# Initialize the neural network parameters\n",
    "d = X_train.shape[1]  # Input size (MNIST images are 28x28)\n",
    "d1 = 128              # Number of units in the first hidden layer\n",
    "k = 10                # Number of classes"
   ]
  },
  {
   "cell_type": "code",
   "execution_count": 51,
   "metadata": {},
   "outputs": [
    {
     "name": "stdout",
     "output_type": "stream",
     "text": [
      "Epoch 1/3, Cost: 0.00042911754080437645\n",
      "Epoch 2/3, Cost: 0.00042310261584901704\n",
      "Epoch 3/3, Cost: 0.0013986781447004745\n"
     ]
    }
   ],
   "source": [
    "learning_rate = 0.1\n",
    "num_epochs = 3\n",
    "\n",
    "W1, b1, W2, b2 = train(X_train, Y_train_onehot, d1, k, num_epochs, learning_rate, 'random')"
   ]
  },
  {
   "cell_type": "code",
   "execution_count": 52,
   "metadata": {},
   "outputs": [
    {
     "name": "stdout",
     "output_type": "stream",
     "text": [
      "Accuracy on the test set: 95.70%\n"
     ]
    }
   ],
   "source": [
    "correct = 0\n",
    "\n",
    "for i in range(len(X_test)):\n",
    "    x = X_test[i:i+1]\n",
    "    y_true = Y_test[i]\n",
    "    _, A2 = forward_propagation(x, W1, b1, W2, b2)\n",
    "    predicted_class = np.argmax(A2)\n",
    "\n",
    "    if predicted_class == y_true:\n",
    "        correct += 1\n",
    "\n",
    "accuracy = (correct / len(X_test)) * 100\n",
    "print(f'Accuracy on the test set: {accuracy:.2f}%')"
   ]
  },
  {
   "cell_type": "markdown",
   "metadata": {},
   "source": [
    "#### Initialize to 0"
   ]
  },
  {
   "cell_type": "code",
   "execution_count": 53,
   "metadata": {},
   "outputs": [],
   "source": [
    "# Load MNIST dataset\n",
    "transform = transforms.Compose([transforms.ToTensor(), transforms.Normalize((0.5,), (0.5,))])\n",
    "train_dataset = MNIST(root='./data', train=True, transform=transform, download=True)\n",
    "test_dataset = MNIST(root='./data', train=False, transform=transform)\n",
    "\n",
    "train_loader = DataLoader(train_dataset, batch_size=32, shuffle=True)\n",
    "test_loader = DataLoader(test_dataset, batch_size=32, shuffle=False)\n",
    "\n",
    "# Load and preprocess the MNIST data\n",
    "X_train = train_dataset.data.numpy().reshape(-1, 28 * 28) / 255.0\n",
    "Y_train = train_dataset.targets.numpy()\n",
    "X_test = test_dataset.data.numpy().reshape(-1, 28 * 28) / 255.0\n",
    "Y_test = test_dataset.targets.numpy()\n",
    "\n",
    "enc = OneHotEncoder(categories='auto')\n",
    "Y_train_onehot = enc.fit_transform(Y_train.reshape(-1, 1)).toarray()\n",
    "Y_test_onehot = enc.transform(Y_test.reshape(-1, 1)).toarray()"
   ]
  },
  {
   "cell_type": "code",
   "execution_count": 54,
   "metadata": {},
   "outputs": [],
   "source": [
    "# Initialize the neural network parameters\n",
    "d = X_train.shape[1]  # Input size (MNIST images are 28x28)\n",
    "d1 = 128              # Number of units in the first hidden layer\n",
    "k = 10                # Number of classes"
   ]
  },
  {
   "cell_type": "code",
   "execution_count": 55,
   "metadata": {},
   "outputs": [
    {
     "name": "stdout",
     "output_type": "stream",
     "text": [
      "Epoch 1/3, Cost: 1.6013102493001914\n",
      "Epoch 2/3, Cost: 1.6065865705098037\n",
      "Epoch 3/3, Cost: 1.5938681688176495\n"
     ]
    }
   ],
   "source": [
    "learning_rate = 0.1\n",
    "num_epochs = 3\n",
    "\n",
    "W1, b1, W2, b2 = train(X_train, Y_train_onehot, d1, k, num_epochs, learning_rate, init_wts='zero')"
   ]
  },
  {
   "cell_type": "code",
   "execution_count": 56,
   "metadata": {},
   "outputs": [
    {
     "name": "stdout",
     "output_type": "stream",
     "text": [
      "Accuracy on the test set: 34.38%\n"
     ]
    }
   ],
   "source": [
    "correct = 0\n",
    "\n",
    "for i in range(len(X_test)):\n",
    "    x = X_test[i:i+1]\n",
    "    y_true = Y_test[i]\n",
    "    _, A2 = forward_propagation(x, W1, b1, W2, b2)\n",
    "    predicted_class = np.argmax(A2)\n",
    "\n",
    "    if predicted_class == y_true:\n",
    "        correct += 1\n",
    "\n",
    "accuracy = (correct / len(X_test)) * 100\n",
    "print(f'Accuracy on the test set: {accuracy:.2f}%')"
   ]
  },
  {
   "cell_type": "code",
   "execution_count": 63,
   "metadata": {},
   "outputs": [
    {
     "data": {
      "text/plain": [
       "<matplotlib.legend.Legend at 0x242cafa9c90>"
      ]
     },
     "execution_count": 63,
     "metadata": {},
     "output_type": "execute_result"
    },
    {
     "data": {
      "image/png": "[encoded data removed]",
      "text/plain": [
       "<Figure size 640x480 with 1 Axes>"
      ]
     },
     "metadata": {},
     "output_type": "display_data"
    }
   ],
   "source": [
    "import matplotlib.pyplot as plt\n",
    "\n",
    "plt.title('Learning curve')\n",
    "plt.plot([1,2,3], [0.00042911754080437645, 0.00042310261584901704, 0.0013986781447004745], label='Random Initialization')\n",
    "plt.xlabel('Epochs')\n",
    "plt.ylabel('Loss')\n",
    "plt.legend()"
   ]
  },
  {
   "cell_type": "code",
   "execution_count": 69,
   "metadata": {},
   "outputs": [
    {
     "data": {
      "text/plain": [
       "<matplotlib.legend.Legend at 0x242cb94e550>"
      ]
     },
     "execution_count": 69,
     "metadata": {},
     "output_type": "execute_result"
    },
    {
     "data": {
      "image/png": "[encoded data removed]",
      "text/plain": [
       "<Figure size 640x480 with 1 Axes>"
      ]
     },
     "metadata": {},
     "output_type": "display_data"
    }
   ],
   "source": [
    "plt.title('Learning curve')\n",
    "plt.plot([1,2,3], [1.6013102493001914, 1.6065865705098037, 1.5938681688176495], label='Zero Initialization')\n",
    "plt.xlabel('Epochs')\n",
    "plt.ylabel('Loss')\n",
    "plt.legend()"
   ]
  }
 ],
 "metadata": {
  "kernelspec": {
   "display_name": "base",
   "language": "python",
   "name": "python3"
  },
  "language_info": {
   "codemirror_mode": {
    "name": "ipython",
    "version": 3
   },
   "file_extension": ".py",
   "mimetype": "text/x-python",
   "name": "python",
   "nbconvert_exporter": "python",
   "pygments_lexer": "ipython3",
   "version": "3.11.4"
  }
 },
 "nbformat": 4,
 "nbformat_minor": 2
}
